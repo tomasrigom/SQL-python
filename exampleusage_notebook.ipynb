{
 "cells": [
  {
   "cell_type": "code",
   "execution_count": null,
   "metadata": {},
   "outputs": [],
   "source": [
    "#Example usage of the files within this repository\n",
    "\n",
    "import pyvo\n",
    "import requests\n",
    "import os\n",
    "\n",
    "from SQL_TAP_submission import submit_queries\n",
    "from SQL_TAP_retrieval import fetch_results_of_complete_jobs\n",
    "from SQL_TAP_archive import archive_queries"
   ]
  },
  {
   "cell_type": "code",
   "execution_count": null,
   "metadata": {},
   "outputs": [],
   "source": [
    "###########################################################################################################################################\n",
    "#   THIS IS AN EXAMPLE USAGE OF THE CODES WITHIN THIS REPOSITORY USING THE TAP SERVICE OF THE COSMOLOGICAL SIMULATION DATABASE COSMOSIM\n",
    "###########################################################################################################################################"
   ]
  },
  {
   "cell_type": "code",
   "execution_count": null,
   "metadata": {},
   "outputs": [],
   "source": [
    "# Setup tap_service connection\n",
    "servicename = \"CosmoSim\"\n",
    "url = \"https://www.cosmosim.org/tap\"\n",
    "token = #<Your API token here>\n",
    "\n",
    "print('TAP service %s \\n' % (servicename,))\n",
    "\n",
    "# Setup authorization\n",
    "tapsession = requests.Session()\n",
    "tapsession.headers['Authorization'] = token\n",
    "\n",
    "tapservice = pyvo.dal.TAPService(url, session=tapsession)"
   ]
  },
  {
   "cell_type": "code",
   "execution_count": null,
   "metadata": {},
   "outputs": [],
   "source": [
    "#Prepare list of queries (works also with numpy arrays of course). In our case we will use 1 element for the example.\n",
    "\n",
    "queries = [('Query A','SELECT m.\"mvir\", m.\"m200c\", m.\"spin\", m.\"spin_bullock\" FROM \"mdpl2\".\"rockstar\" AS m WHERE EXISTS (SELECT 1 FROM \"mdpl2\".\"redshifts\" AS r WHERE r.\"zred\" = 2.949 AND m.\"m200c\" > 2e+12 AND m.\"m200c\" < 5e+12 AND m.\"snapnum\" = r.\"snapnum\");')]\n",
    "\n",
    "#Now submit the queries\n",
    "submit_queries(tapservice, queries, lang='PostgreSQL', queue='5h', urls_filename='jobs_url.txt')"
   ]
  },
  {
   "cell_type": "code",
   "execution_count": null,
   "metadata": {},
   "outputs": [],
   "source": [
    "#Now if we want to fetch the results\n",
    "n_unfinished = fetch_results_of_complete_jobs(tapservice, f'jobs_url.txt')\n",
    "\n",
    "#Note we did not use the other options (we took the default): overwrite = True, data_format = 'csv'"
   ]
  },
  {
   "cell_type": "code",
   "execution_count": null,
   "metadata": {},
   "outputs": [],
   "source": [
    "#Lastly, if we want to archive the COMPLETED results (say, if we have fetched them and wrote them to disk already)\n",
    "\n",
    "archive_queries(tapservice,tapsession,status=\"COMPLETED\")\n",
    "\n",
    "#If we wanted to archive all queries from the account, then we would use status = \"ALL\""
   ]
  }
 ],
 "metadata": {
  "language_info": {
   "name": "python"
  }
 },
 "nbformat": 4,
 "nbformat_minor": 2
}
